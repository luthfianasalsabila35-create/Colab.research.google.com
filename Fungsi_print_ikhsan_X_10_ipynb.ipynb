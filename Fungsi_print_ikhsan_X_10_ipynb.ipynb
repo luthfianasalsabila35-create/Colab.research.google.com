{
  "nbformat": 4,
  "nbformat_minor": 0,
  "metadata": {
    "colab": {
      "provenance": [],
      "authorship_tag": "ABX9TyNgZ9bC4OfF1k7XAM0GqtV8",
      "include_colab_link": true
    },
    "kernelspec": {
      "name": "python3",
      "display_name": "Python 3"
    },
    "language_info": {
      "name": "python"
    }
  },
  "cells": [
    {
      "cell_type": "markdown",
      "metadata": {
        "id": "view-in-github",
        "colab_type": "text"
      },
      "source": [
        "<a href=\"https://colab.research.google.com/github/luthfianasalsabila35-create/Colab.research.google.com/blob/main/Fungsi_print_ikhsan_X_10_ipynb.ipynb\" target=\"_parent\"><img src=\"https://colab.research.google.com/assets/colab-badge.svg\" alt=\"Open In Colab\"/></a>"
      ]
    },
    {
      "cell_type": "code",
      "execution_count": null,
      "metadata": {
        "id": "s5JMGt9FxfcJ",
        "colab": {
          "base_uri": "https://localhost:8080/"
        },
        "outputId": "5bc597d7-64ee-4cda-f2d1-14dcfb932d80"
      },
      "outputs": [
        {
          "output_type": "stream",
          "name": "stdout",
          "text": [
            "ikhsan Setyawan\n"
          ]
        }
      ],
      "source": [
        "print(\"ikhsan Setyawan\")"
      ]
    },
    {
      "cell_type": "code",
      "source": [
        "print(\"Surya insomnia\")"
      ],
      "metadata": {
        "colab": {
          "base_uri": "https://localhost:8080/"
        },
        "id": "tnW9-3a18czE",
        "outputId": "f7041c47-f023-4d25-c506-b5e6532bc2b1"
      },
      "execution_count": null,
      "outputs": [
        {
          "output_type": "stream",
          "name": "stdout",
          "text": [
            "Surya insomnia\n"
          ]
        }
      ]
    },
    {
      "cell_type": "code",
      "source": [
        "usia=15\n",
        "print(usia)"
      ],
      "metadata": {
        "colab": {
          "base_uri": "https://localhost:8080/"
        },
        "id": "Fe-ttMaC9qmI",
        "outputId": "7ca2fb23-282b-41d3-dfa9-4439c16b6290"
      },
      "execution_count": null,
      "outputs": [
        {
          "output_type": "stream",
          "name": "stdout",
          "text": [
            "15\n"
          ]
        }
      ]
    },
    {
      "cell_type": "code",
      "source": [
        "nama=\"ahsan\"\n",
        "print(nama)"
      ],
      "metadata": {
        "colab": {
          "base_uri": "https://localhost:8080/"
        },
        "id": "KbAkX8jq-10K",
        "outputId": "9074083b-c43b-4bae-cdd9-9842fa56af86"
      },
      "execution_count": null,
      "outputs": [
        {
          "output_type": "stream",
          "name": "stdout",
          "text": [
            "ahsan\n"
          ]
        }
      ]
    },
    {
      "cell_type": "code",
      "source": [
        "pelajaran=\"iPS\"\n",
        "print(pelajaran)"
      ],
      "metadata": {
        "colab": {
          "base_uri": "https://localhost:8080/"
        },
        "id": "Oz5fdUc2_uyi",
        "outputId": "db555af7-4ab5-4096-9c8b-1ffb88ad2ca2"
      },
      "execution_count": null,
      "outputs": [
        {
          "output_type": "stream",
          "name": "stdout",
          "text": [
            "iPS\n"
          ]
        }
      ]
    },
    {
      "cell_type": "code",
      "source": [
        "print(\"nama: \" + nama)"
      ],
      "metadata": {
        "colab": {
          "base_uri": "https://localhost:8080/"
        },
        "id": "q95oLqnyArOF",
        "outputId": "0bc9db98-7651-4d57-ceed-4650bdea2fb8"
      },
      "execution_count": null,
      "outputs": [
        {
          "output_type": "stream",
          "name": "stdout",
          "text": [
            "nama: ahsan\n"
          ]
        }
      ]
    },
    {
      "cell_type": "code",
      "source": [
        "print (\"pelajaran: \" + pelajaran)"
      ],
      "metadata": {
        "colab": {
          "base_uri": "https://localhost:8080/"
        },
        "id": "ru_zkCzJCUmX",
        "outputId": "5b472ecb-37e0-4b2a-b498-a4edf8ec974a"
      },
      "execution_count": null,
      "outputs": [
        {
          "output_type": "stream",
          "name": "stdout",
          "text": [
            "pelajaran: iPS\n"
          ]
        }
      ]
    },
    {
      "cell_type": "code",
      "source": [
        "nama_panggilan_siswa= \"ikhsan\"\n",
        "print(\"nama panggilan siswa tersebut adalah\", nama_panggilan_siswa) #sudah ada spasinya"
      ],
      "metadata": {
        "colab": {
          "base_uri": "https://localhost:8080/"
        },
        "id": "cKfSHRXQhjYC",
        "outputId": "83463f11-97e6-4af6-f713-ae42d00febb5"
      },
      "execution_count": null,
      "outputs": [
        {
          "output_type": "stream",
          "name": "stdout",
          "text": [
            "nama panggilan siswa tersebut adalah ikhsan\n"
          ]
        }
      ]
    },
    {
      "cell_type": "code",
      "source": [
        "print(\"Nama: ikhsan Setyawan\")\n",
        "print(\"kelas: x.10\")\n",
        "print(\"No absen: 9\")"
      ],
      "metadata": {
        "colab": {
          "base_uri": "https://localhost:8080/"
        },
        "id": "z7dXB24kiLAh",
        "outputId": "c4572f9a-698e-43f6-9a8f-ff43e3003c5c"
      },
      "execution_count": null,
      "outputs": [
        {
          "output_type": "stream",
          "name": "stdout",
          "text": [
            "Nama: ikhsan Setyawan\n",
            "kelas: x.10\n",
            "No absen: 9\n"
          ]
        }
      ]
    },
    {
      "cell_type": "code",
      "source": [
        "nama =\"ikhsan\"\n",
        "print(nama)"
      ],
      "metadata": {
        "colab": {
          "base_uri": "https://localhost:8080/"
        },
        "id": "H_EXfZhBCntJ",
        "outputId": "b05105ee-7243-4b6a-9947-c0a1cbbfa995"
      },
      "execution_count": null,
      "outputs": [
        {
          "output_type": "stream",
          "name": "stdout",
          "text": [
            "ikhsan\n"
          ]
        }
      ]
    },
    {
      "cell_type": "code",
      "source": [
        "usia =\"15\"\n",
        "print(usia)"
      ],
      "metadata": {
        "colab": {
          "base_uri": "https://localhost:8080/"
        },
        "id": "YI150pTnCvBe",
        "outputId": "bd80bfb3-efd5-4e0e-bf95-2a955092f845"
      },
      "execution_count": null,
      "outputs": [
        {
          "output_type": "stream",
          "name": "stdout",
          "text": [
            "15\n"
          ]
        }
      ]
    },
    {
      "cell_type": "code",
      "source": [
        "print(f\"Hallo nama saya {nama} usia saya {usia} tahun\")"
      ],
      "metadata": {
        "colab": {
          "base_uri": "https://localhost:8080/"
        },
        "id": "HsebywSAC5X-",
        "outputId": "b7c48153-d330-4ef1-980b-037bc1ac50d0"
      },
      "execution_count": null,
      "outputs": [
        {
          "output_type": "stream",
          "name": "stdout",
          "text": [
            "Hallo nama saya ikhsan usia saya 15 tahun\n"
          ]
        }
      ]
    },
    {
      "cell_type": "code",
      "source": [
        "print(\"Nama: ikhsan\n",
        "       kelas:10.x\n",
        "       absen:9 \")"
      ],
      "metadata": {
        "colab": {
          "base_uri": "https://localhost:8080/",
          "height": 141
        },
        "id": "7qM9CnIWHQGn",
        "outputId": "67856e64-c4d1-4f23-b315-d41ac341557c"
      },
      "execution_count": null,
      "outputs": [
        {
          "output_type": "error",
          "ename": "SyntaxError",
          "evalue": "unterminated string literal (detected at line 1) (ipython-input-2417110753.py, line 1)",
          "traceback": [
            "\u001b[0;36m  File \u001b[0;32m\"/tmp/ipython-input-2417110753.py\"\u001b[0;36m, line \u001b[0;32m1\u001b[0m\n\u001b[0;31m    print(\"Nama: ikhsan\u001b[0m\n\u001b[0m          ^\u001b[0m\n\u001b[0;31mSyntaxError\u001b[0m\u001b[0;31m:\u001b[0m unterminated string literal (detected at line 1)\n"
          ]
        }
      ]
    },
    {
      "cell_type": "code",
      "source": [
        "print(' ainun ')"
      ],
      "metadata": {
        "colab": {
          "base_uri": "https://localhost:8080/"
        },
        "id": "roIX8sbW5XiM",
        "outputId": "8f794a11-fc61-4552-cbb4-8d0a99e1a435"
      },
      "execution_count": null,
      "outputs": [
        {
          "output_type": "stream",
          "name": "stdout",
          "text": [
            " ainun \n"
          ]
        }
      ]
    },
    {
      "cell_type": "code",
      "source": [
        "print('A'inun')"
      ],
      "metadata": {
        "colab": {
          "base_uri": "https://localhost:8080/",
          "height": 141
        },
        "id": "UYs7y0Qv5n7H",
        "outputId": "9b6aab2c-2a64-443b-8fe2-83c34733c96e"
      },
      "execution_count": null,
      "outputs": [
        {
          "output_type": "error",
          "ename": "SyntaxError",
          "evalue": "unterminated string literal (detected at line 1) (ipython-input-2190604232.py, line 1)",
          "traceback": [
            "\u001b[0;36m  File \u001b[0;32m\"/tmp/ipython-input-2190604232.py\"\u001b[0;36m, line \u001b[0;32m1\u001b[0m\n\u001b[0;31m    print('A'inun')\u001b[0m\n\u001b[0m                 ^\u001b[0m\n\u001b[0;31mSyntaxError\u001b[0m\u001b[0;31m:\u001b[0m unterminated string literal (detected at line 1)\n"
          ]
        }
      ]
    },
    {
      "cell_type": "code",
      "source": [
        "print(\"A'inun\")"
      ],
      "metadata": {
        "colab": {
          "base_uri": "https://localhost:8080/"
        },
        "id": "pZyFfjRP57D9",
        "outputId": "0399fd20-67d5-4ec6-eb18-965da99e764e"
      },
      "execution_count": null,
      "outputs": [
        {
          "output_type": "stream",
          "name": "stdout",
          "text": [
            "A'inun\n"
          ]
        }
      ]
    },
    {
      "cell_type": "code",
      "source": [
        "print('A\\'inun')"
      ],
      "metadata": {
        "colab": {
          "base_uri": "https://localhost:8080/"
        },
        "id": "Fdv3W1_A6OKT",
        "outputId": "46e65654-06bc-4bbe-c2ae-ff28825c1b2c"
      },
      "execution_count": null,
      "outputs": [
        {
          "output_type": "stream",
          "name": "stdout",
          "text": [
            "A'inun\n"
          ]
        }
      ]
    },
    {
      "cell_type": "code",
      "source": [
        "print(\"Bu Shinta Berkata,\\\"Makan sosis so nice\\\"\")"
      ],
      "metadata": {
        "colab": {
          "base_uri": "https://localhost:8080/"
        },
        "id": "0pyS3GlT6dxq",
        "outputId": "74ca6b6a-832d-49bb-f025-699e67898df2"
      },
      "execution_count": null,
      "outputs": [
        {
          "output_type": "stream",
          "name": "stdout",
          "text": [
            "Bu Shinta Berkata,\"Makan sosis so nice\"\n"
          ]
        }
      ]
    },
    {
      "cell_type": "code",
      "source": [
        "print('Bu Shinta Berkata,\"Makan sosis so nice\"')"
      ],
      "metadata": {
        "colab": {
          "base_uri": "https://localhost:8080/"
        },
        "id": "k64VG6JB7PcJ",
        "outputId": "afa17119-f494-40db-913a-9024be2dbac4"
      },
      "execution_count": null,
      "outputs": [
        {
          "output_type": "stream",
          "name": "stdout",
          "text": [
            "Bu Shinta Berkata,\"Makan sosis so nice\"\n"
          ]
        }
      ]
    },
    {
      "cell_type": "code",
      "source": [
        "simpan file di local disk D\\Man demak\\KKA"
      ],
      "metadata": {
        "colab": {
          "base_uri": "https://localhost:8080/",
          "height": 193
        },
        "id": "FQeehYQv7g2g",
        "outputId": "2869abf1-50c2-43f8-bf4a-54b8b43b1f23"
      },
      "execution_count": null,
      "outputs": [
        {
          "output_type": "error",
          "ename": "SyntaxError",
          "evalue": "unexpected character after line continuation character (ipython-input-4293563049.py, line 1)",
          "traceback": [
            "\u001b[0;36m  File \u001b[0;32m\"/tmp/ipython-input-4293563049.py\"\u001b[0;36m, line \u001b[0;32m1\u001b[0m\n\u001b[0;31m    simpan file di local disk D\\Man demak\\KKA\u001b[0m\n\u001b[0m                                ^\u001b[0m\n\u001b[0;31mSyntaxError\u001b[0m\u001b[0;31m:\u001b[0m unexpected character after line continuation character\n"
          ]
        }
      ]
    },
    {
      "cell_type": "code",
      "source": [
        "nama_siswa_1=\"ridju\"\n",
        "nama_siswa_2=\"Rafa\""
      ],
      "metadata": {
        "id": "DjCYB04bGpd4"
      },
      "execution_count": null,
      "outputs": []
    },
    {
      "cell_type": "code",
      "source": [
        "print(nama_siswa_1)"
      ],
      "metadata": {
        "colab": {
          "base_uri": "https://localhost:8080/"
        },
        "id": "QW_DU-0uHgjR",
        "outputId": "7ab39614-17a1-4bbe-f8ce-64aa4e91440a"
      },
      "execution_count": null,
      "outputs": [
        {
          "output_type": "stream",
          "name": "stdout",
          "text": [
            "ridju\n"
          ]
        }
      ]
    },
    {
      "cell_type": "code",
      "source": [
        "print(nama_siswa_1, nama_siswa_2)"
      ],
      "metadata": {
        "colab": {
          "base_uri": "https://localhost:8080/"
        },
        "id": "4x3n7VkBH8JR",
        "outputId": "2da7c454-ef00-4e3c-941b-ff668f3524e1"
      },
      "execution_count": null,
      "outputs": [
        {
          "output_type": "stream",
          "name": "stdout",
          "text": [
            "ridju Rafa\n"
          ]
        }
      ]
    },
    {
      "cell_type": "code",
      "source": [
        "print(nama_siswa_1,nama_siswa_2,nama_siswa_1, sep= \"*\")"
      ],
      "metadata": {
        "colab": {
          "base_uri": "https://localhost:8080/"
        },
        "id": "rcHNu3ocITup",
        "outputId": "6bdbe75c-7e3e-408d-f03b-61927d93116f"
      },
      "execution_count": null,
      "outputs": [
        {
          "output_type": "stream",
          "name": "stdout",
          "text": [
            "ridju*Rafa*ridju\n"
          ]
        }
      ]
    },
    {
      "cell_type": "code",
      "source": [
        "print(nama_siswa_1, end=\"*\")\n",
        "print(nama_siswa_2)"
      ],
      "metadata": {
        "colab": {
          "base_uri": "https://localhost:8080/"
        },
        "id": "K5VVjOWOLOfW",
        "outputId": "448dea81-539a-4b0a-e2f7-50d7bae6d513"
      },
      "execution_count": null,
      "outputs": [
        {
          "output_type": "stream",
          "name": "stdout",
          "text": [
            "ridju*Rafa\n"
          ]
        }
      ]
    }
  ]
}